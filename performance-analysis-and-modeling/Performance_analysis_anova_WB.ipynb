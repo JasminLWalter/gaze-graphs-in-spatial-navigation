{
 "cells": [
  {
   "cell_type": "markdown",
   "id": "376d3163",
   "metadata": {},
   "source": [
    "# Performance analysis and anova"
   ]
  },
  {
   "cell_type": "markdown",
   "id": "f7e1e3a0",
   "metadata": {},
   "source": [
    "Script written by Jasmin L. Walter: jawalter@uni-osnabrueck.de"
   ]
  },
  {
   "cell_type": "markdown",
   "id": "e0ffcfd1-eff7-401b-aa1c-2f9bca08116e",
   "metadata": {},
   "source": [
    "### Purpose: \n",
    "Runs a within-subjects repeated-measures ANOVA on PTB angular-error data and\n",
    "summarizes repetition effects. Factors: TrialOrder and RouteID (within), subject: SubjectID.\n",
    "\n",
    "### Usage:\n",
    "- use environment gaze-graphs-in-spatial-nav-env.yml (in same folder as script)\n",
    "- Adjust: savepath to the folder containing overviewTable_P2B_Prep_complete.csv.\n",
    "  \n",
    "### Inputs:\n",
    "- overviewTable_P2B_Prep_complete.csv (required columns: SubjectID, RouteID, TrialOrder, RecalculatedAngle)\n",
    "  \n",
    "### Outputs:\n",
    "- Console:\n",
    "- ANOVA table (AnovaRM on RecalculatedAngle with within factors TrialOrder and RouteID)\n",
    "- Mean difference in performance between measurements 1 and 2 (TrialOrder 1 vs 2)\n",
    "\n",
    "### License: GNU General Public License v3.0 (GPL-3.0) (see LICENSE)"
   ]
  },
  {
   "cell_type": "code",
   "execution_count": 2,
   "id": "7aa57948",
   "metadata": {},
   "outputs": [
    {
     "name": "stdout",
     "output_type": "stream",
     "text": [
      "Once deleted, variables cannot be recovered. Proceed (y/[n])? y\n"
     ]
    }
   ],
   "source": [
    "%reset"
   ]
  },
  {
   "cell_type": "markdown",
   "id": "8a4a8d54",
   "metadata": {},
   "source": [
    "## import\n"
   ]
  },
  {
   "cell_type": "code",
   "execution_count": 1,
   "id": "61213c05",
   "metadata": {},
   "outputs": [],
   "source": [
    "import os\n",
    "import pandas as pd\n",
    "from statsmodels.stats.anova import AnovaRM"
   ]
  },
  {
   "cell_type": "code",
   "execution_count": 2,
   "id": "2c3e360d",
   "metadata": {},
   "outputs": [],
   "source": [
    "# adjust savepath\n",
    "savepath = \".../Analysis/P2B_controls_analysis\""
   ]
  },
  {
   "cell_type": "code",
   "execution_count": 3,
   "id": "5f3f44c9",
   "metadata": {},
   "outputs": [],
   "source": [
    "# Participant list of all 26 participants that participated 5 sessions x 30 min\n",
    "# in Westbrook city\n",
    "PartList = [1004, 1005, 1008, 1010, 1011, 1013, 1017, 1018, 1019, 1021, 1022, 1023, 1054, 1055, 1056, 1057, 1058, 1068, 1069, 1072, 1073, 1074, 1075, 1077, 1079, 1080]"
   ]
  },
  {
   "cell_type": "code",
   "execution_count": 4,
   "id": "5902aa14",
   "metadata": {},
   "outputs": [],
   "source": [
    "# load data\n",
    "dataP2B = pd.read_csv(os.path.join(savepath, \"overviewTable_P2B_Prep_complete.csv\"))\n"
   ]
  },
  {
   "cell_type": "code",
   "execution_count": 5,
   "id": "21ff852f",
   "metadata": {},
   "outputs": [
    {
     "data": {
      "text/html": [
       "<div>\n",
       "<style scoped>\n",
       "    .dataframe tbody tr th:only-of-type {\n",
       "        vertical-align: middle;\n",
       "    }\n",
       "\n",
       "    .dataframe tbody tr th {\n",
       "        vertical-align: top;\n",
       "    }\n",
       "\n",
       "    .dataframe thead th {\n",
       "        text-align: right;\n",
       "    }\n",
       "</style>\n",
       "<table border=\"1\" class=\"dataframe\">\n",
       "  <thead>\n",
       "    <tr style=\"text-align: right;\">\n",
       "      <th></th>\n",
       "      <th>SubjectID</th>\n",
       "      <th>TimeStampBegin</th>\n",
       "      <th>TrialDuration</th>\n",
       "      <th>StartingPositionIndex</th>\n",
       "      <th>StartBuildingName</th>\n",
       "      <th>TargetBuildingName</th>\n",
       "      <th>RecalculatedAngle</th>\n",
       "      <th>DistancePart2TargetBuilding</th>\n",
       "      <th>NodeDegreeStartBuilding</th>\n",
       "      <th>NodeDegreeTargetBuilding</th>\n",
       "      <th>...</th>\n",
       "      <th>TargetBuildingDwellingTime</th>\n",
       "      <th>Mean_egocentric_global</th>\n",
       "      <th>Mean_survey</th>\n",
       "      <th>Mean_cardinal</th>\n",
       "      <th>TrialTime</th>\n",
       "      <th>RouteID</th>\n",
       "      <th>TrialOrder</th>\n",
       "      <th>TrialSequence</th>\n",
       "      <th>TrialSequence_SameStart14</th>\n",
       "      <th>TrialSequence_SameStart7</th>\n",
       "    </tr>\n",
       "  </thead>\n",
       "  <tbody>\n",
       "    <tr>\n",
       "      <th>0</th>\n",
       "      <td>1004</td>\n",
       "      <td>1.620057e+09</td>\n",
       "      <td>24.381341</td>\n",
       "      <td>7</td>\n",
       "      <td>TaskBuilding_8</td>\n",
       "      <td>TaskBuilding_3</td>\n",
       "      <td>172.355456</td>\n",
       "      <td>221.415804</td>\n",
       "      <td>7</td>\n",
       "      <td>11</td>\n",
       "      <td>...</td>\n",
       "      <td>28.765485</td>\n",
       "      <td>5.8</td>\n",
       "      <td>4.857143</td>\n",
       "      <td>1.5</td>\n",
       "      <td>0.00000</td>\n",
       "      <td>RouteID_52</td>\n",
       "      <td>1</td>\n",
       "      <td>1</td>\n",
       "      <td>1</td>\n",
       "      <td>1</td>\n",
       "    </tr>\n",
       "    <tr>\n",
       "      <th>1</th>\n",
       "      <td>1004</td>\n",
       "      <td>1.620057e+09</td>\n",
       "      <td>14.068027</td>\n",
       "      <td>7</td>\n",
       "      <td>TaskBuilding_8</td>\n",
       "      <td>TaskBuilding_2</td>\n",
       "      <td>56.020996</td>\n",
       "      <td>199.514222</td>\n",
       "      <td>7</td>\n",
       "      <td>5</td>\n",
       "      <td>...</td>\n",
       "      <td>66.331504</td>\n",
       "      <td>5.8</td>\n",
       "      <td>4.857143</td>\n",
       "      <td>1.5</td>\n",
       "      <td>24.64670</td>\n",
       "      <td>RouteID_51</td>\n",
       "      <td>1</td>\n",
       "      <td>2</td>\n",
       "      <td>2</td>\n",
       "      <td>2</td>\n",
       "    </tr>\n",
       "    <tr>\n",
       "      <th>2</th>\n",
       "      <td>1004</td>\n",
       "      <td>1.620057e+09</td>\n",
       "      <td>12.694109</td>\n",
       "      <td>7</td>\n",
       "      <td>TaskBuilding_8</td>\n",
       "      <td>TaskBuilding_1</td>\n",
       "      <td>10.721127</td>\n",
       "      <td>336.932289</td>\n",
       "      <td>7</td>\n",
       "      <td>13</td>\n",
       "      <td>...</td>\n",
       "      <td>40.847034</td>\n",
       "      <td>5.8</td>\n",
       "      <td>4.857143</td>\n",
       "      <td>1.5</td>\n",
       "      <td>38.98158</td>\n",
       "      <td>RouteID_50</td>\n",
       "      <td>1</td>\n",
       "      <td>3</td>\n",
       "      <td>3</td>\n",
       "      <td>3</td>\n",
       "    </tr>\n",
       "    <tr>\n",
       "      <th>3</th>\n",
       "      <td>1004</td>\n",
       "      <td>1.620057e+09</td>\n",
       "      <td>17.271687</td>\n",
       "      <td>7</td>\n",
       "      <td>TaskBuilding_8</td>\n",
       "      <td>TaskBuilding_7</td>\n",
       "      <td>153.416261</td>\n",
       "      <td>196.602196</td>\n",
       "      <td>7</td>\n",
       "      <td>7</td>\n",
       "      <td>...</td>\n",
       "      <td>11.200175</td>\n",
       "      <td>5.8</td>\n",
       "      <td>4.857143</td>\n",
       "      <td>1.5</td>\n",
       "      <td>51.94204</td>\n",
       "      <td>RouteID_56</td>\n",
       "      <td>1</td>\n",
       "      <td>4</td>\n",
       "      <td>4</td>\n",
       "      <td>4</td>\n",
       "    </tr>\n",
       "    <tr>\n",
       "      <th>4</th>\n",
       "      <td>1004</td>\n",
       "      <td>1.620057e+09</td>\n",
       "      <td>13.778860</td>\n",
       "      <td>7</td>\n",
       "      <td>TaskBuilding_8</td>\n",
       "      <td>TaskBuilding_5</td>\n",
       "      <td>62.256057</td>\n",
       "      <td>202.430774</td>\n",
       "      <td>7</td>\n",
       "      <td>11</td>\n",
       "      <td>...</td>\n",
       "      <td>33.730450</td>\n",
       "      <td>5.8</td>\n",
       "      <td>4.857143</td>\n",
       "      <td>1.5</td>\n",
       "      <td>69.48157</td>\n",
       "      <td>RouteID_54</td>\n",
       "      <td>1</td>\n",
       "      <td>5</td>\n",
       "      <td>5</td>\n",
       "      <td>5</td>\n",
       "    </tr>\n",
       "  </tbody>\n",
       "</table>\n",
       "<p>5 rows × 27 columns</p>\n",
       "</div>"
      ],
      "text/plain": [
       "   SubjectID  TimeStampBegin  TrialDuration  StartingPositionIndex  \\\n",
       "0       1004    1.620057e+09      24.381341                      7   \n",
       "1       1004    1.620057e+09      14.068027                      7   \n",
       "2       1004    1.620057e+09      12.694109                      7   \n",
       "3       1004    1.620057e+09      17.271687                      7   \n",
       "4       1004    1.620057e+09      13.778860                      7   \n",
       "\n",
       "  StartBuildingName TargetBuildingName  RecalculatedAngle  \\\n",
       "0    TaskBuilding_8     TaskBuilding_3         172.355456   \n",
       "1    TaskBuilding_8     TaskBuilding_2          56.020996   \n",
       "2    TaskBuilding_8     TaskBuilding_1          10.721127   \n",
       "3    TaskBuilding_8     TaskBuilding_7         153.416261   \n",
       "4    TaskBuilding_8     TaskBuilding_5          62.256057   \n",
       "\n",
       "   DistancePart2TargetBuilding  NodeDegreeStartBuilding  \\\n",
       "0                   221.415804                        7   \n",
       "1                   199.514222                        7   \n",
       "2                   336.932289                        7   \n",
       "3                   196.602196                        7   \n",
       "4                   202.430774                        7   \n",
       "\n",
       "   NodeDegreeTargetBuilding  ...  TargetBuildingDwellingTime  \\\n",
       "0                        11  ...                   28.765485   \n",
       "1                         5  ...                   66.331504   \n",
       "2                        13  ...                   40.847034   \n",
       "3                         7  ...                   11.200175   \n",
       "4                        11  ...                   33.730450   \n",
       "\n",
       "   Mean_egocentric_global  Mean_survey  Mean_cardinal  TrialTime     RouteID  \\\n",
       "0                     5.8     4.857143            1.5    0.00000  RouteID_52   \n",
       "1                     5.8     4.857143            1.5   24.64670  RouteID_51   \n",
       "2                     5.8     4.857143            1.5   38.98158  RouteID_50   \n",
       "3                     5.8     4.857143            1.5   51.94204  RouteID_56   \n",
       "4                     5.8     4.857143            1.5   69.48157  RouteID_54   \n",
       "\n",
       "   TrialOrder  TrialSequence  TrialSequence_SameStart14  \\\n",
       "0           1              1                          1   \n",
       "1           1              2                          2   \n",
       "2           1              3                          3   \n",
       "3           1              4                          4   \n",
       "4           1              5                          5   \n",
       "\n",
       "   TrialSequence_SameStart7  \n",
       "0                         1  \n",
       "1                         2  \n",
       "2                         3  \n",
       "3                         4  \n",
       "4                         5  \n",
       "\n",
       "[5 rows x 27 columns]"
      ]
     },
     "execution_count": 5,
     "metadata": {},
     "output_type": "execute_result"
    }
   ],
   "source": [
    "dataP2B.head()"
   ]
  },
  {
   "cell_type": "code",
   "execution_count": 6,
   "id": "219e2418",
   "metadata": {},
   "outputs": [],
   "source": [
    "\n",
    "# Convert necessary columns to categorical\n",
    "dataP2B['SubjectID'] = dataP2B['SubjectID'].astype('category')\n",
    "dataP2B['RouteID'] = dataP2B['RouteID'].astype('category')\n",
    "dataP2B['TrialOrder'] = dataP2B['TrialOrder'].astype('category')\n",
    "\n"
   ]
  },
  {
   "cell_type": "code",
   "execution_count": 7,
   "id": "2b641460",
   "metadata": {},
   "outputs": [
    {
     "name": "stdout",
     "output_type": "stream",
     "text": [
      "                       Anova\n",
      "===================================================\n",
      "                   F Value  Num DF   Den DF  Pr > F\n",
      "---------------------------------------------------\n",
      "TrialOrder          6.9671  1.0000   25.0000 0.0141\n",
      "RouteID             7.1082 55.0000 1375.0000 0.0000\n",
      "TrialOrder:RouteID  1.1597 55.0000 1375.0000 0.2009\n",
      "===================================================\n",
      "\n"
     ]
    }
   ],
   "source": [
    "# calculate anova\n",
    "rm = AnovaRM(data=dataP2B, depvar='RecalculatedAngle', subject='SubjectID', within=['TrialOrder', 'RouteID'])\n",
    "rm_results = rm.fit()\n",
    "print(rm_results)\n"
   ]
  },
  {
   "cell_type": "code",
   "execution_count": 8,
   "id": "9cd27590",
   "metadata": {},
   "outputs": [
    {
     "name": "stdout",
     "output_type": "stream",
     "text": [
      "Mean difference in performance from Measurement 1 to 2: -5.148282125968517\n",
      "sd difference in performance from Measurement 1 to 2: 9.945412578650329\n"
     ]
    }
   ],
   "source": [
    "# calculate performance improvement in repetitions\n",
    "average_scores = dataP2B.groupby(['SubjectID', 'TrialOrder'], observed=False).agg({'RecalculatedAngle': 'mean'}).unstack()\n",
    "average_diff = average_scores['RecalculatedAngle'][2] - average_scores['RecalculatedAngle'][1]\n",
    "\n",
    "print(\"Mean difference in performance from Measurement 1 to 2:\", average_diff.mean())\n",
    "print(\"sd difference in performance from Measurement 1 to 2:\", average_diff.std())"
   ]
  }
 ],
 "metadata": {
  "kernelspec": {
   "display_name": "Python 3 (ipykernel)",
   "language": "python",
   "name": "python3"
  },
  "language_info": {
   "codemirror_mode": {
    "name": "ipython",
    "version": 3
   },
   "file_extension": ".py",
   "mimetype": "text/x-python",
   "name": "python",
   "nbconvert_exporter": "python",
   "pygments_lexer": "ipython3",
   "version": "3.11.14"
  },
  "varInspector": {
   "cols": {
    "lenName": 16,
    "lenType": 16,
    "lenVar": 40
   },
   "kernels_config": {
    "python": {
     "delete_cmd_postfix": "",
     "delete_cmd_prefix": "del ",
     "library": "var_list.py",
     "varRefreshCmd": "print(var_dic_list())"
    },
    "r": {
     "delete_cmd_postfix": ") ",
     "delete_cmd_prefix": "rm(",
     "library": "var_list.r",
     "varRefreshCmd": "cat(var_dic_list()) "
    }
   },
   "types_to_exclude": [
    "module",
    "function",
    "builtin_function_or_method",
    "instance",
    "_Feature"
   ],
   "window_display": false
  }
 },
 "nbformat": 4,
 "nbformat_minor": 5
}
